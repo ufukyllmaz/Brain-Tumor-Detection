{
 "cells": [
  {
   "cell_type": "code",
   "execution_count": 1,
   "metadata": {},
   "outputs": [],
   "source": [
    "import pandas as pd\n",
    "import matplotlib.pyplot as plt\n",
    "from ultralytics import YOLO"
   ]
  },
  {
   "cell_type": "code",
   "execution_count": 2,
   "metadata": {},
   "outputs": [],
   "source": [
    "yolo_large_model = YOLO(\"yolov8l.pt\")"
   ]
  },
  {
   "cell_type": "markdown",
   "metadata": {},
   "source": [
    "## YOLOv8 Train Parameters\n",
    "\n",
    "| Parameter      | Default | Description |\n",
    "|---------------|---------|-------------|\n",
    "| `data`        | **(Required)** | Path to dataset YAML file (e.g., `data.yaml`). Defines paths for train/val/test datasets and class names. |\n",
    "| `epochs`      | `100`   | Number of training epochs. |\n",
    "| `batch`       | `16`    | Batch size. Adjust based on GPU memory. |\n",
    "| `imgsz`       | `640`   | Input image size (e.g., 416, 512, 640). Larger sizes improve accuracy but increase memory usage. |\n",
    "| `device`      | `\"cpu\"` | Choose `\"cuda\"` for GPU or `\"cpu\"` for CPU training. |\n",
    "| `workers`     | `8`     | Number of data loader workers for parallel loading. |\n",
    "| `project`     | `\"runs/train\"` | Directory to save training runs. |\n",
    "| `name`        | `\"exp\"` | Name of the training run inside `project` directory. |\n",
    "| `patience`    | `50`    | Number of epochs without improvement before early stopping. |\n",
    "| `optimizer`   | `\"auto\"` | Optimizer: `\"auto\"`, `\"SGD\"`, `\"Adam\"`, `\"AdamW\"`. |\n",
    "| `lr0`         | `0.01`  | Initial learning rate. |\n",
    "| `lrf`         | `0.01`  | Final learning rate factor (applies cosine annealing). |\n",
    "| `momentum`    | `0.937` | SGD momentum. |\n",
    "| `weight_decay`| `0.0005`| L2 weight decay (regularization). |\n",
    "| `pretrained`  | `True`  | Whether to use a pretrained model. |\n",
    "| `resume`      | `False` | Resume training from a checkpoint. |\n",
    "| `val`         | `True`  | Run validation during training. |\n",
    "| `save`        | `True`  | Save the model after training. |\n",
    "| `save_period` | `-1`    | Save model checkpoint every N epochs (useful for long training). |\n",
    "| `plots`       | `True`  | Save training plots. |\n",
    "| `augment`     | `False` | Apply data augmentation. |\n",
    "| `verbose`     | `True`  | Print detailed training logs. |\n"
   ]
  },
  {
   "cell_type": "code",
   "execution_count": null,
   "metadata": {},
   "outputs": [
    {
     "name": "stdout",
     "output_type": "stream",
     "text": [
      "New https://pypi.org/project/ultralytics/8.3.88 available 😃 Update with 'pip install -U ultralytics'\n",
      "Ultralytics 8.3.86 🚀 Python-3.9.21 torch-2.6.0 CPU (Apple M1 Pro)\n",
      "\u001b[34m\u001b[1mengine/trainer: \u001b[0mtask=detect, mode=train, model=yolov8l.pt, data=data.yaml, epochs=10, time=None, patience=3, batch=-6, imgsz=640, save=True, save_period=-1, cache=False, device=cpu, workers=8, project=None, name=train5, exist_ok=False, pretrained=True, optimizer=auto, verbose=True, seed=0, deterministic=True, single_cls=False, rect=False, cos_lr=False, close_mosaic=10, resume=False, amp=True, fraction=1.0, profile=False, freeze=None, multi_scale=False, overlap_mask=True, mask_ratio=4, dropout=0.0, val=True, split=val, save_json=False, save_hybrid=False, conf=None, iou=0.7, max_det=300, half=False, dnn=False, plots=True, source=None, vid_stride=1, stream_buffer=False, visualize=False, augment=False, agnostic_nms=False, classes=None, retina_masks=False, embed=None, show=False, save_frames=False, save_txt=False, save_conf=False, save_crop=False, show_labels=True, show_conf=True, show_boxes=True, line_width=None, format=torchscript, keras=False, optimize=False, int8=False, dynamic=False, simplify=True, opset=None, workspace=None, nms=False, lr0=0.01, lrf=0.01, momentum=0.937, weight_decay=0.0005, warmup_epochs=3.0, warmup_momentum=0.8, warmup_bias_lr=0.1, box=7.5, cls=0.5, dfl=1.5, pose=12.0, kobj=1.0, nbs=64, hsv_h=0.015, hsv_s=0.7, hsv_v=0.4, degrees=0.0, translate=0.1, scale=0.5, shear=0.0, perspective=0.0, flipud=0.0, fliplr=0.5, bgr=0.0, mosaic=1.0, mixup=0.0, copy_paste=0.0, copy_paste_mode=flip, auto_augment=randaugment, erasing=0.4, crop_fraction=1.0, cfg=None, tracker=botsort.yaml, save_dir=runs/detect/train5\n",
      "Overriding model.yaml nc=80 with nc=3\n",
      "\n",
      "                   from  n    params  module                                       arguments                     \n",
      "  0                  -1  1      1856  ultralytics.nn.modules.conv.Conv             [3, 64, 3, 2]                 \n",
      "  1                  -1  1     73984  ultralytics.nn.modules.conv.Conv             [64, 128, 3, 2]               \n",
      "  2                  -1  3    279808  ultralytics.nn.modules.block.C2f             [128, 128, 3, True]           \n",
      "  3                  -1  1    295424  ultralytics.nn.modules.conv.Conv             [128, 256, 3, 2]              \n",
      "  4                  -1  6   2101248  ultralytics.nn.modules.block.C2f             [256, 256, 6, True]           \n",
      "  5                  -1  1   1180672  ultralytics.nn.modules.conv.Conv             [256, 512, 3, 2]              \n",
      "  6                  -1  6   8396800  ultralytics.nn.modules.block.C2f             [512, 512, 6, True]           \n",
      "  7                  -1  1   2360320  ultralytics.nn.modules.conv.Conv             [512, 512, 3, 2]              \n",
      "  8                  -1  3   4461568  ultralytics.nn.modules.block.C2f             [512, 512, 3, True]           \n",
      "  9                  -1  1    656896  ultralytics.nn.modules.block.SPPF            [512, 512, 5]                 \n",
      " 10                  -1  1         0  torch.nn.modules.upsampling.Upsample         [None, 2, 'nearest']          \n",
      " 11             [-1, 6]  1         0  ultralytics.nn.modules.conv.Concat           [1]                           \n",
      " 12                  -1  3   4723712  ultralytics.nn.modules.block.C2f             [1024, 512, 3]                \n",
      " 13                  -1  1         0  torch.nn.modules.upsampling.Upsample         [None, 2, 'nearest']          \n",
      " 14             [-1, 4]  1         0  ultralytics.nn.modules.conv.Concat           [1]                           \n",
      " 15                  -1  3   1247744  ultralytics.nn.modules.block.C2f             [768, 256, 3]                 \n",
      " 16                  -1  1    590336  ultralytics.nn.modules.conv.Conv             [256, 256, 3, 2]              \n",
      " 17            [-1, 12]  1         0  ultralytics.nn.modules.conv.Concat           [1]                           \n",
      " 18                  -1  3   4592640  ultralytics.nn.modules.block.C2f             [768, 512, 3]                 \n",
      " 19                  -1  1   2360320  ultralytics.nn.modules.conv.Conv             [512, 512, 3, 2]              \n",
      " 20             [-1, 9]  1         0  ultralytics.nn.modules.conv.Concat           [1]                           \n",
      " 21                  -1  3   4723712  ultralytics.nn.modules.block.C2f             [1024, 512, 3]                \n",
      " 22        [15, 18, 21]  1   5585113  ultralytics.nn.modules.head.Detect           [3, [256, 512, 512]]          \n",
      "Model summary: 209 layers, 43,632,153 parameters, 43,632,137 gradients, 165.4 GFLOPs\n",
      "\n",
      "Transferred 589/595 items from pretrained weights\n",
      "Freezing layer 'model.22.dfl.conv.weight'\n"
     ]
    },
    {
     "name": "stderr",
     "output_type": "stream",
     "text": [
      "\u001b[34m\u001b[1mtrain: \u001b[0mScanning /Users/gtmac22/Desktop/PersonalWork/GitHub/Brain-Tumor-Detection/train/labels... 2144 images, 0 backgrounds, 0 corrupt: 100%|██████████| 2144/2144 [00:04<00:00, 527.06it/s] \n"
     ]
    },
    {
     "name": "stdout",
     "output_type": "stream",
     "text": [
      "\u001b[34m\u001b[1mtrain: \u001b[0mNew cache created: /Users/gtmac22/Desktop/PersonalWork/GitHub/Brain-Tumor-Detection/train/labels.cache\n",
      "WARNING ⚠️ Box and segment counts should be equal, but got len(segments) = 2143, len(boxes) = 2144. To resolve this only boxes will be used and all segments will be removed. To avoid this please supply either a detect or segment dataset, not a detect-segment mixed dataset.\n",
      "\u001b[34m\u001b[1mAutoBatch: \u001b[0mComputing optimal batch size for imgsz=640 at 60.0% CUDA memory utilization.\n",
      "\u001b[34m\u001b[1mAutoBatch: \u001b[0m ⚠️ intended for CUDA devices, using default batch-size 16\n"
     ]
    },
    {
     "name": "stderr",
     "output_type": "stream",
     "text": [
      "\u001b[34m\u001b[1mtrain: \u001b[0mScanning /Users/gtmac22/Desktop/PersonalWork/GitHub/Brain-Tumor-Detection/train/labels.cache... 2144 images, 0 backgrounds, 0 corrupt: 100%|██████████| 2144/2144 [00:00<?, ?it/s]"
     ]
    },
    {
     "name": "stdout",
     "output_type": "stream",
     "text": [
      "WARNING ⚠️ Box and segment counts should be equal, but got len(segments) = 2143, len(boxes) = 2144. To resolve this only boxes will be used and all segments will be removed. To avoid this please supply either a detect or segment dataset, not a detect-segment mixed dataset.\n"
     ]
    },
    {
     "name": "stderr",
     "output_type": "stream",
     "text": [
      "\n",
      "\u001b[34m\u001b[1mval: \u001b[0mScanning /Users/gtmac22/Desktop/PersonalWork/GitHub/Brain-Tumor-Detection/valid/labels... 612 images, 0 backgrounds, 0 corrupt: 100%|██████████| 612/612 [00:00<00:00, 1235.37it/s]\n"
     ]
    },
    {
     "name": "stdout",
     "output_type": "stream",
     "text": [
      "\u001b[34m\u001b[1mval: \u001b[0mNew cache created: /Users/gtmac22/Desktop/PersonalWork/GitHub/Brain-Tumor-Detection/valid/labels.cache\n",
      "Plotting labels to runs/detect/train5/labels.jpg... \n",
      "\u001b[34m\u001b[1moptimizer:\u001b[0m 'optimizer=auto' found, ignoring 'lr0=0.01' and 'momentum=0.937' and determining best 'optimizer', 'lr0' and 'momentum' automatically... \n",
      "\u001b[34m\u001b[1moptimizer:\u001b[0m AdamW(lr=0.001429, momentum=0.9) with parameter groups 97 weight(decay=0.0), 104 weight(decay=0.0005), 103 bias(decay=0.0)\n",
      "Image sizes 640 train, 640 val\n",
      "Using 0 dataloader workers\n",
      "Logging results to \u001b[1mruns/detect/train5\u001b[0m\n",
      "Starting training for 10 epochs...\n",
      "Closing dataloader mosaic\n",
      "\n",
      "      Epoch    GPU_mem   box_loss   cls_loss   dfl_loss  Instances       Size\n"
     ]
    },
    {
     "name": "stderr",
     "output_type": "stream",
     "text": [
      "       1/10         0G      1.456      7.212      1.719         16        640:   3%|▎         | 4/134 [03:24<1:47:17, 49.52s/it]"
     ]
    }
   ],
   "source": [
    "trained_model = yolo_large_model.train(data=\"data.yaml\",\n",
    "                                       epochs=10, # Number of training epochs.\n",
    "                                       patience=3, # Number of epochs without improvement before early stopping.\n",
    "                                       batch=-6, # Batch size. Adjust based on GPU memory.\n",
    "                                       imgsz=640, # Input image size (e.g., 416, 512, 640). Larger sizes improve accuracy but increase memory usage.\n",
    "                                       device=\"cpu\", # or \"cuda\"\n",
    "                                       optimizer=\"auto\" # Optimizer: \"auto\", \"SGD\", \"Adam\", \"AdamW\".\n",
    "                                       )"
   ]
  },
  {
   "cell_type": "markdown",
   "metadata": {},
   "source": [
    "## YOLOv8 `results.csv` Metrics\n",
    "\n",
    "This CSV file logs the following metrics for each epoch:\n",
    "\n",
    "| Column Name          | Description |\n",
    "|----------------------|-------------|\n",
    "| `epoch`             | The current epoch number during training. |\n",
    "| `train/box_loss`    | Bounding box regression loss during training. Measures how well the model predicts object locations. |\n",
    "| `train/cls_loss`    | Classification loss during training. Measures how well the model classifies objects into correct categories. |\n",
    "| `train/dfl_loss`    | Distribution Focal Loss (DFL) for training. Used for refining bounding box coordinates. |\n",
    "| `val/box_loss`      | Bounding box regression loss during validation. Similar to `train/box_loss` but evaluated on validation data. |\n",
    "| `val/cls_loss`      | Classification loss during validation. Similar to `train/cls_loss` but evaluated on validation data. |\n",
    "| `val/dfl_loss`      | Distribution Focal Loss (DFL) during validation. |\n",
    "| `metrics/precision` | Precision of the model. Measures how many predicted positives are actually correct (TP / (TP + FP)). |\n",
    "| `metrics/recall`    | Recall of the model. Measures how many actual positives are correctly predicted (TP / (TP + FN)). |\n",
    "| `metrics/mAP_50`    | Mean Average Precision at IoU=0.50. Measures how well the model detects objects with at least 50% overlap. |\n",
    "| `metrics/mAP_50-95` | Mean Average Precision across IoU thresholds (0.50 to 0.95). A more comprehensive accuracy measure. |\n",
    "| `lr/pg0`            | Learning rate for the first parameter group (usually backbone layers). |\n",
    "| `lr/pg1`            | Learning rate for the second parameter group (usually head layers). |\n",
    "| `lr/pg2`            | Learning rate for the third parameter group (usually extra layers in custom models). |\n",
    "\n"
   ]
  },
  {
   "cell_type": "code",
   "execution_count": null,
   "metadata": {},
   "outputs": [],
   "source": [
    "result_df = pd.read_csv(\"results.csv\")\n",
    "result_df.head()"
   ]
  },
  {
   "cell_type": "markdown",
   "metadata": {},
   "source": [
    "# Metrics"
   ]
  },
  {
   "cell_type": "markdown",
   "metadata": {},
   "source": [
    "## Evaluate Accuracy"
   ]
  },
  {
   "cell_type": "code",
   "execution_count": null,
   "metadata": {},
   "outputs": [],
   "source": [
    "#   Check mAP Over Epochs\n",
    "#   Insights:\n",
    "#\n",
    "#   A higher mAP means better performance.\n",
    "#   If mAP is low, try increasing dataset size, fine-tuning learning rate, or using augmentation.\n",
    "\n",
    "plt.figure(figsize=(10, 5))\n",
    "plt.plot(df[\"epoch\"], df[\"metrics/mAP_50\"], label=\"mAP@50\", marker=\"o\")\n",
    "plt.plot(df[\"epoch\"], df[\"metrics/mAP_50-95\"], label=\"mAP@50-95\", marker=\"s\")\n",
    "\n",
    "plt.xlabel(\"Epoch\")\n",
    "plt.ylabel(\"Mean Average Precision\")\n",
    "plt.title(\"mAP Over Epochs\")\n",
    "plt.legend()\n",
    "plt.grid()\n",
    "plt.show()\n"
   ]
  },
  {
   "cell_type": "markdown",
   "metadata": {},
   "source": [
    "## Detect Overfitting"
   ]
  },
  {
   "cell_type": "code",
   "execution_count": null,
   "metadata": {},
   "outputs": [],
   "source": [
    "#   Monitoring Loss Curves\n",
    "#   Loss curves provide insights into the model's performance during training.\n",
    "#   The training and validation loss curves should decrease over time.\n",
    "#   Insights:\n",
    "#\n",
    "#   If validation loss starts increasing while training loss decreases, it may indicate overfitting.\n",
    "#   If loss remains high, try reducing the learning rate.\n",
    "\n",
    "plt.figure(figsize=(10, 5))\n",
    "plt.plot(result_df[\"epoch\"], result_df[\"train/box_loss\"], label=\"Train Box Loss\", marker=\"o\")\n",
    "plt.plot(result_df[\"epoch\"], result_df[\"val/box_loss\"], label=\"Validation Box Loss\", marker=\"s\")\n",
    "plt.plot(result_df[\"epoch\"], result_df[\"train/cls_loss\"], label=\"Train Classification Loss\", marker=\"o\")\n",
    "plt.plot(result_df[\"epoch\"], result_df[\"val/cls_loss\"], label=\"Validation Classification Loss\", marker=\"s\")\n",
    "\n",
    "plt.xlabel(\"Epoch\")\n",
    "plt.ylabel(\"Loss\")\n",
    "plt.title(\"Loss Curves\")\n",
    "plt.legend()\n",
    "plt.grid()\n",
    "plt.show()\n"
   ]
  },
  {
   "cell_type": "markdown",
   "metadata": {},
   "source": [
    "## Detection Performance"
   ]
  },
  {
   "cell_type": "code",
   "execution_count": null,
   "metadata": {},
   "outputs": [],
   "source": [
    "#   Precision and Recall Over Epochs\n",
    "#   Precision and recall are important metrics for object detection models.\n",
    "#   Precision measures the percentage of objects detected that are correct.\n",
    "#   Recall measures the percentage of objects detected out of all objects.\n",
    "#   The goal is to maximize both precision and recall.\n",
    "#   Insights:\n",
    "#\n",
    "#   If precision is high but recall is low, the model is missing some objects.\n",
    "#   If recall is high but precision is low, the model is detecting too many false positives.\n",
    "\n",
    "plt.figure(figsize=(10, 5))\n",
    "plt.plot(result_df[\"epoch\"], result_df[\"metrics/precision\"], label=\"Precision\", marker=\"o\")\n",
    "plt.plot(result_df[\"epoch\"], result_df[\"metrics/recall\"], label=\"Recall\", marker=\"s\")\n",
    "\n",
    "plt.xlabel(\"Epoch\")\n",
    "plt.ylabel(\"Score\")\n",
    "plt.title(\"Precision and Recall Over Epochs\")\n",
    "plt.legend()\n",
    "plt.grid()\n",
    "plt.show()\n"
   ]
  },
  {
   "cell_type": "markdown",
   "metadata": {},
   "source": [
    "## Optimize Training"
   ]
  },
  {
   "cell_type": "code",
   "execution_count": null,
   "metadata": {},
   "outputs": [],
   "source": [
    "#   Understand Learning Rate Adjustments Over Epochs\n",
    "#   Learning rate is a critical hyperparameter that affects model performance.\n",
    "#   The learning rate schedule determines how the learning rate changes over time.\n",
    "#   The learning rate should be adjusted based on the model's performance.\n",
    "#   Insights:\n",
    "#\n",
    "#   If learning rate is too high, the model may not converge.\n",
    "#   If learning rate is too low, the model may take too long to improve.\n",
    "\n",
    "plt.figure(figsize=(10, 5))\n",
    "plt.plot(df[\"epoch\"], df[\"lr/pg0\"], label=\"LR pg0\", marker=\"o\")\n",
    "plt.plot(df[\"epoch\"], df[\"lr/pg1\"], label=\"LR pg1\", marker=\"s\")\n",
    "plt.plot(df[\"epoch\"], df[\"lr/pg2\"], label=\"LR pg2\", marker=\"^\")\n",
    "\n",
    "plt.xlabel(\"Epoch\")\n",
    "plt.ylabel(\"Learning Rate\")\n",
    "plt.title(\"Learning Rate Schedule\")\n",
    "plt.legend()\n",
    "plt.grid()\n",
    "plt.show()\n"
   ]
  },
  {
   "cell_type": "code",
   "execution_count": null,
   "metadata": {},
   "outputs": [],
   "source": []
  },
  {
   "cell_type": "code",
   "execution_count": null,
   "metadata": {},
   "outputs": [],
   "source": []
  },
  {
   "cell_type": "code",
   "execution_count": null,
   "metadata": {},
   "outputs": [],
   "source": []
  },
  {
   "cell_type": "code",
   "execution_count": null,
   "metadata": {},
   "outputs": [],
   "source": []
  },
  {
   "cell_type": "code",
   "execution_count": null,
   "metadata": {},
   "outputs": [],
   "source": []
  }
 ],
 "metadata": {
  "kernelspec": {
   "display_name": "yolov8_mamo",
   "language": "python",
   "name": "python3"
  },
  "language_info": {
   "codemirror_mode": {
    "name": "ipython",
    "version": 3
   },
   "file_extension": ".py",
   "mimetype": "text/x-python",
   "name": "python",
   "nbconvert_exporter": "python",
   "pygments_lexer": "ipython3",
   "version": "3.9.21"
  }
 },
 "nbformat": 4,
 "nbformat_minor": 2
}
